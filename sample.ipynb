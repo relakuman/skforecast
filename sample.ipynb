{
 "cells": [
  {
   "cell_type": "code",
   "execution_count": 1,
   "id": "f9523b85-2d5c-46f8-abe2-2b0d755fabee",
   "metadata": {
    "tags": []
   },
   "outputs": [],
   "source": [
    "import random\n",
    "from datetime import datetime\n",
    "\n",
    "# Data processing\n",
    "# ==============================================================================\n",
    "import numpy as np\n",
    "import pandas as pd\n",
    "\n",
    "# Plots\n",
    "# ==============================================================================\n",
    "import matplotlib.pyplot as plt\n",
    "%matplotlib inline\n",
    "\n",
    "# Modelling and Forecasting\n",
    "# ==============================================================================\n",
    "from lightgbm import LGBMRegressor\n",
    "\n",
    "from skforecast.ForecasterAutoreg import ForecasterAutoreg\n",
    "from skforecast.ForecasterAutoregMultiOutput import ForecasterAutoregMultiOutput\n",
    "from skforecast.model_selection import grid_search_forecaster\n",
    "from skforecast.model_selection import backtesting_forecaster\n",
    "\n",
    "# Configuration\n",
    "# ==============================================================================\n",
    "import warnings\n",
    "warnings.filterwarnings('ignore')\n",
    "\n",
    "# %config Completer.use_jedi = False"
   ]
  },
  {
   "cell_type": "code",
   "execution_count": 6,
   "id": "3d837ad4-b5c5-4831-8b0b-93e2486a4988",
   "metadata": {},
   "outputs": [],
   "source": [
    "data = pd.read_csv(r'../sample_timeseries_daily.csv',\n",
    "                 dtype={\"ds\": str,\"store_id\": str,\"item_id\":str,\"y\": float,\"x\": float,\"holiday\": int,\"month\": int,\"weekday\": int},\n",
    "                 parse_dates=[\"ds\"]\n",
    ")"
   ]
  },
  {
   "cell_type": "code",
   "execution_count": 7,
   "id": "743ec333-db94-4dcc-b00d-4ec91ff970f0",
   "metadata": {},
   "outputs": [
    {
     "name": "stdout",
     "output_type": "stream",
     "text": [
      "<class 'pandas.core.frame.DataFrame'>\n",
      "RangeIndex: 547 entries, 0 to 546\n",
      "Data columns (total 8 columns):\n",
      " #   Column    Non-Null Count  Dtype         \n",
      "---  ------    --------------  -----         \n",
      " 0   ds        547 non-null    datetime64[ns]\n",
      " 1   store_id  547 non-null    object        \n",
      " 2   item_id   547 non-null    object        \n",
      " 3   y         547 non-null    float64       \n",
      " 4   x         547 non-null    float64       \n",
      " 5   holiday   547 non-null    int32         \n",
      " 6   month     547 non-null    int32         \n",
      " 7   weekday   547 non-null    int32         \n",
      "dtypes: datetime64[ns](1), float64(2), int32(3), object(2)\n",
      "memory usage: 27.9+ KB\n"
     ]
    }
   ],
   "source": [
    "data.info()"
   ]
  },
  {
   "cell_type": "code",
   "execution_count": 8,
   "id": "458a5559-2d81-4005-b3f3-4b6ed619cdfe",
   "metadata": {},
   "outputs": [],
   "source": [
    "# INDEX\n",
    "data = data.set_index(data.ds)\n",
    "data = data.drop(\"ds\", axis=1)\n",
    "data = data.asfreq('D')"
   ]
  },
  {
   "cell_type": "code",
   "execution_count": 9,
   "id": "27353a93-29f9-4908-a9c7-b86b19d0b09a",
   "metadata": {},
   "outputs": [],
   "source": [
    "# Split train-val-test\n",
    "# ==============================================================================\n",
    "end_train = '2019-12-31'\n",
    "end_validation = '2020-03-31'\n",
    "end_test = '2020-06-30'"
   ]
  },
  {
   "cell_type": "code",
   "execution_count": 13,
   "id": "aafab25e-39f8-4cb5-ae7a-871c87cc90d3",
   "metadata": {},
   "outputs": [
    {
     "name": "stdout",
     "output_type": "stream",
     "text": [
      "['holiday', 'month', 'weekday', 'x']\n"
     ]
    }
   ],
   "source": [
    "# exog\n",
    "exog_variables = [column for column in data.columns\n",
    "                      if column.startswith(('holiday', 'month', 'weekday'))]\n",
    "exog_variables.extend(['x'])\n",
    "\n",
    "print(exog_variables)"
   ]
  },
  {
   "cell_type": "code",
   "execution_count": 14,
   "id": "d20ea602-426d-4576-9afb-88774756164f",
   "metadata": {},
   "outputs": [],
   "source": [
    "# Create forecaster\n",
    "# ==============================================================================\n",
    "forecaster = ForecasterAutoreg(\n",
    "regressor = LGBMRegressor(random_state=123),\n",
    "lags = 30\n",
    ")"
   ]
  },
  {
   "cell_type": "code",
   "execution_count": 16,
   "id": "2b1b37f2-a824-401f-b28c-04a2e2df7ed0",
   "metadata": {},
   "outputs": [
    {
     "name": "stdout",
     "output_type": "stream",
     "text": [
      "Number of models compared: 60.\n"
     ]
    },
    {
     "name": "stderr",
     "output_type": "stream",
     "text": [
      "loop lags_grid:   0%|                                               | 0/5 [00:00<?, ?it/s]\n",
      "loop param_grid:   0%|                                             | 0/12 [00:00<?, ?it/s]\u001b[A\n",
      "loop param_grid:   8%|███                                  | 1/12 [00:00<00:01,  8.91it/s]\u001b[A\n",
      "loop param_grid:  17%|██████▏                              | 2/12 [00:00<00:01,  5.51it/s]\u001b[A\n",
      "loop param_grid:  25%|█████████▎                           | 3/12 [00:00<00:01,  6.70it/s]\u001b[A\n",
      "loop param_grid:  33%|████████████▎                        | 4/12 [00:00<00:01,  4.48it/s]\u001b[A\n",
      "loop param_grid:  42%|███████████████▍                     | 5/12 [00:00<00:01,  5.40it/s]\u001b[A\n",
      "loop param_grid:  50%|██████████████████▌                  | 6/12 [00:01<00:01,  3.82it/s]\u001b[A\n",
      "loop param_grid:  67%|████████████████████████▋            | 8/12 [00:01<00:00,  4.94it/s]\u001b[A\n",
      "loop param_grid:  75%|███████████████████████████▊         | 9/12 [00:01<00:00,  5.62it/s]\u001b[A\n",
      "loop param_grid:  83%|██████████████████████████████      | 10/12 [00:02<00:00,  4.58it/s]\u001b[A\n",
      "loop param_grid:  92%|█████████████████████████████████   | 11/12 [00:02<00:00,  5.23it/s]\u001b[A\n",
      "loop param_grid: 100%|████████████████████████████████████| 12/12 [00:02<00:00,  3.73it/s]\u001b[A\n",
      "loop lags_grid:  20%|███████▊                               | 1/5 [00:02<00:10,  2.62s/it]\u001b[A\n",
      "loop param_grid:   0%|                                             | 0/12 [00:00<?, ?it/s]\u001b[A\n",
      "loop param_grid:   8%|███                                  | 1/12 [00:00<00:01,  9.53it/s]\u001b[A\n",
      "loop param_grid:  17%|██████▏                              | 2/12 [00:00<00:01,  5.13it/s]\u001b[A\n",
      "loop param_grid:  25%|█████████▎                           | 3/12 [00:00<00:01,  6.20it/s]\u001b[A\n",
      "loop param_grid:  33%|████████████▎                        | 4/12 [00:00<00:01,  4.26it/s]\u001b[A\n",
      "loop param_grid:  42%|███████████████▍                     | 5/12 [00:00<00:01,  5.06it/s]\u001b[A\n",
      "loop param_grid:  50%|██████████████████▌                  | 6/12 [00:01<00:01,  3.59it/s]\u001b[A\n",
      "loop param_grid:  67%|████████████████████████▋            | 8/12 [00:01<00:00,  4.50it/s]\u001b[A\n",
      "loop param_grid:  75%|███████████████████████████▊         | 9/12 [00:01<00:00,  5.15it/s]\u001b[A\n",
      "loop param_grid:  83%|██████████████████████████████      | 10/12 [00:02<00:00,  4.41it/s]\u001b[A\n",
      "loop param_grid:  92%|█████████████████████████████████   | 11/12 [00:02<00:00,  4.92it/s]\u001b[A\n",
      "loop param_grid: 100%|████████████████████████████████████| 12/12 [00:02<00:00,  3.33it/s]\u001b[A\n",
      "loop lags_grid:  40%|███████████████▌                       | 2/5 [00:05<00:08,  2.76s/it]\u001b[A\n",
      "loop param_grid:   0%|                                             | 0/12 [00:00<?, ?it/s]\u001b[A\n",
      "loop param_grid:   8%|███                                  | 1/12 [00:00<00:01,  5.68it/s]\u001b[A\n",
      "loop param_grid:  17%|██████▏                              | 2/12 [00:00<00:03,  2.83it/s]\u001b[A\n",
      "loop param_grid:  25%|█████████▎                           | 3/12 [00:00<00:02,  3.28it/s]\u001b[A\n",
      "loop param_grid:  33%|████████████▎                        | 4/12 [00:01<00:03,  2.14it/s]\u001b[A\n",
      "loop param_grid:  42%|███████████████▍                     | 5/12 [00:01<00:02,  2.55it/s]\u001b[A\n",
      "loop param_grid:  50%|██████████████████▌                  | 6/12 [00:02<00:03,  1.71it/s]\u001b[A\n",
      "loop param_grid:  58%|█████████████████████▌               | 7/12 [00:03<00:02,  2.20it/s]\u001b[A\n",
      "loop param_grid:  67%|████████████████████████▋            | 8/12 [00:03<00:01,  2.18it/s]\u001b[A\n",
      "loop param_grid:  75%|███████████████████████████▊         | 9/12 [00:03<00:01,  2.59it/s]\u001b[A\n",
      "loop param_grid:  83%|██████████████████████████████      | 10/12 [00:04<00:00,  2.06it/s]\u001b[A\n",
      "loop param_grid:  92%|█████████████████████████████████   | 11/12 [00:04<00:00,  2.41it/s]\u001b[A\n",
      "loop param_grid: 100%|████████████████████████████████████| 12/12 [00:05<00:00,  1.76it/s]\u001b[A\n",
      "loop lags_grid:  60%|███████████████████████▍               | 3/5 [00:11<00:08,  4.06s/it]\u001b[A\n",
      "loop param_grid:   0%|                                             | 0/12 [00:00<?, ?it/s]\u001b[A\n",
      "loop param_grid:   8%|███                                  | 1/12 [00:00<00:02,  5.47it/s]\u001b[A\n",
      "loop param_grid:  17%|██████▏                              | 2/12 [00:00<00:03,  2.80it/s]\u001b[A\n",
      "loop param_grid:  25%|█████████▎                           | 3/12 [00:00<00:02,  3.16it/s]\u001b[A\n",
      "loop param_grid:  33%|████████████▎                        | 4/12 [00:01<00:03,  2.03it/s]\u001b[A\n",
      "loop param_grid:  42%|███████████████▍                     | 5/12 [00:01<00:02,  2.47it/s]\u001b[A\n",
      "loop param_grid:  50%|██████████████████▌                  | 6/12 [00:02<00:03,  1.67it/s]\u001b[A\n",
      "loop param_grid:  58%|█████████████████████▌               | 7/12 [00:03<00:02,  2.13it/s]\u001b[A\n",
      "loop param_grid:  67%|████████████████████████▋            | 8/12 [00:03<00:01,  2.14it/s]\u001b[A\n",
      "loop param_grid:  75%|███████████████████████████▊         | 9/12 [00:03<00:01,  2.44it/s]\u001b[A\n",
      "loop param_grid:  83%|██████████████████████████████      | 10/12 [00:04<00:01,  1.87it/s]\u001b[A\n",
      "loop param_grid:  92%|█████████████████████████████████   | 11/12 [00:05<00:00,  2.06it/s]\u001b[A\n",
      "loop param_grid: 100%|████████████████████████████████████| 12/12 [00:05<00:00,  1.62it/s]\u001b[A\n",
      "loop lags_grid:  80%|███████████████████████████████▏       | 4/5 [00:17<00:04,  4.82s/it]\u001b[A\n",
      "loop param_grid:   0%|                                             | 0/12 [00:00<?, ?it/s]\u001b[A\n",
      "loop param_grid:   8%|███                                  | 1/12 [00:00<00:02,  5.08it/s]\u001b[A\n",
      "loop param_grid:  17%|██████▏                              | 2/12 [00:00<00:03,  2.80it/s]\u001b[A\n",
      "loop param_grid:  25%|█████████▎                           | 3/12 [00:00<00:02,  3.14it/s]\u001b[A\n",
      "loop param_grid:  33%|████████████▎                        | 4/12 [00:01<00:03,  2.08it/s]\u001b[A\n",
      "loop param_grid:  42%|███████████████▍                     | 5/12 [00:01<00:02,  2.44it/s]\u001b[A\n",
      "loop param_grid:  50%|██████████████████▌                  | 6/12 [00:02<00:03,  1.75it/s]\u001b[A\n",
      "loop param_grid:  58%|█████████████████████▌               | 7/12 [00:03<00:02,  2.23it/s]\u001b[A\n",
      "loop param_grid:  67%|████████████████████████▋            | 8/12 [00:03<00:01,  2.17it/s]\u001b[A\n",
      "loop param_grid:  75%|███████████████████████████▊         | 9/12 [00:03<00:01,  2.62it/s]\u001b[A\n",
      "loop param_grid:  83%|██████████████████████████████      | 10/12 [00:04<00:00,  2.14it/s]\u001b[A\n",
      "loop param_grid:  92%|█████████████████████████████████   | 11/12 [00:04<00:00,  2.45it/s]\u001b[A\n",
      "loop param_grid: 100%|████████████████████████████████████| 12/12 [00:05<00:00,  1.81it/s]\u001b[A\n",
      "loop lags_grid: 100%|███████████████████████████████████████| 5/5 [00:22<00:00,  4.52s/it]\u001b[A\n"
     ]
    },
    {
     "name": "stdout",
     "output_type": "stream",
     "text": [
      "`Forecaster` refitted using the best-found lags and parameters, and the whole data set: \n",
      "  Lags: [ 1  2  3  4  5  6  7  8  9 10 11 12 13 14 15 16 17 18 19 20 21 22 23 24\n",
      " 25 26 27 28 29 30 31 32] \n",
      "  Parameters: {'learning_rate': 0.1, 'max_depth': 3, 'n_estimators': 500}\n",
      "  Backtesting metric: 0.745342362212266\n",
      "\n"
     ]
    }
   ],
   "source": [
    "# Grid search of hyperparameters and lags\n",
    "# ==============================================================================\n",
    "# Regressor hyperparameters\n",
    "param_grid = {\n",
    "    'n_estimators': [100, 500],\n",
    "    'max_depth': [3, 5, 10],\n",
    "    'learning_rate': [0.01, 0.1]\n",
    "    }\n",
    "\n",
    "# Lags used as predictors\n",
    "lags_grid = [31,32,33,34,35]\n",
    "\n",
    "results_grid = grid_search_forecaster(\n",
    "                        forecaster         = forecaster,\n",
    "                        y                  = data[:end_validation]['y'],\n",
    "                        exog               = data[:end_validation][exog_variables],\n",
    "                        param_grid         = param_grid,\n",
    "                        lags_grid          = lags_grid,\n",
    "                        steps              = 31,\n",
    "                        refit              = True,\n",
    "                        metric             = 'mean_absolute_error',\n",
    "                        initial_train_size = int(len(data[:end_train])),\n",
    "                        fixed_train_size   = False,\n",
    "                        return_best        = True,\n",
    "                        verbose            = False\n",
    "                        )"
   ]
  },
  {
   "cell_type": "code",
   "execution_count": 17,
   "id": "5bf2c23f-c062-4bde-a28a-6f85157f5a87",
   "metadata": {
    "tags": []
   },
   "outputs": [
    {
     "data": {
      "text/plain": [
       "================= \n",
       "ForecasterAutoreg \n",
       "================= \n",
       "Regressor: LGBMRegressor(max_depth=3, n_estimators=500, random_state=123) \n",
       "Lags: [ 1  2  3  4  5  6  7  8  9 10 11 12 13 14 15 16 17 18 19 20 21 22 23 24\n",
       " 25 26 27 28 29 30 31 32] \n",
       "Transformer for y: None \n",
       "Transformer for exog: None \n",
       "Window size: 32 \n",
       "Weight function included: False \n",
       "Exogenous included: True \n",
       "Type of exogenous variable: <class 'pandas.core.frame.DataFrame'> \n",
       "Exogenous variables names: ['holiday', 'month', 'weekday', 'x'] \n",
       "Training range: [Timestamp('2019-01-01 00:00:00'), Timestamp('2020-03-31 00:00:00')] \n",
       "Training index type: DatetimeIndex \n",
       "Training index frequency: D \n",
       "Regressor parameters: {'boosting_type': 'gbdt', 'class_weight': None, 'colsample_bytree': 1.0, 'importance_type': 'split', 'learning_rate': 0.1, 'max_depth': 3, 'min_child_samples': 20, 'min_child_weight': 0.001, 'min_split_gain': 0.0, 'n_estimators': 500, 'n_jobs': -1, 'num_leaves': 31, 'objective': None, 'random_state': 123, 'reg_alpha': 0.0, 'reg_lambda': 0.0, 'silent': 'warn', 'subsample': 1.0, 'subsample_for_bin': 200000, 'subsample_freq': 0} \n",
       "Creation date: 2023-01-11 01:24:04 \n",
       "Last fit date: 2023-01-11 01:25:42 \n",
       "Skforecast version: 0.6.0 \n",
       "Python version: 3.9.12 "
      ]
     },
     "execution_count": 17,
     "metadata": {},
     "output_type": "execute_result"
    }
   ],
   "source": [
    "forecaster"
   ]
  },
  {
   "cell_type": "code",
   "execution_count": 18,
   "id": "e8412d29-d8a3-4142-8328-776f75cb2476",
   "metadata": {
    "tags": []
   },
   "outputs": [
    {
     "name": "stdout",
     "output_type": "stream",
     "text": [
      "Information of backtesting process\n",
      "----------------------------------\n",
      "Number of observations used for initial training: 456\n",
      "Number of observations used for backtesting: 91\n",
      "    Number of folds: 1\n",
      "    Number of steps per fold: 91\n",
      "\n",
      "Data partition in fold: 0\n",
      "    Training:   2019-01-01 00:00:00 -- 2020-03-31 00:00:00  (n=456)\n",
      "    Validation: 2020-04-01 00:00:00 -- 2020-06-30 00:00:00  (n=91)\n",
      "\n"
     ]
    },
    {
     "data": {
      "text/html": [
       "<div>\n",
       "<style scoped>\n",
       "    .dataframe tbody tr th:only-of-type {\n",
       "        vertical-align: middle;\n",
       "    }\n",
       "\n",
       "    .dataframe tbody tr th {\n",
       "        vertical-align: top;\n",
       "    }\n",
       "\n",
       "    .dataframe thead th {\n",
       "        text-align: right;\n",
       "    }\n",
       "</style>\n",
       "<table border=\"1\" class=\"dataframe\">\n",
       "  <thead>\n",
       "    <tr style=\"text-align: right;\">\n",
       "      <th></th>\n",
       "      <th>pred</th>\n",
       "    </tr>\n",
       "  </thead>\n",
       "  <tbody>\n",
       "    <tr>\n",
       "      <th>2020-04-01</th>\n",
       "      <td>10.329288</td>\n",
       "    </tr>\n",
       "    <tr>\n",
       "      <th>2020-04-02</th>\n",
       "      <td>10.618144</td>\n",
       "    </tr>\n",
       "    <tr>\n",
       "      <th>2020-04-03</th>\n",
       "      <td>10.515382</td>\n",
       "    </tr>\n",
       "    <tr>\n",
       "      <th>2020-04-04</th>\n",
       "      <td>10.842006</td>\n",
       "    </tr>\n",
       "    <tr>\n",
       "      <th>2020-04-05</th>\n",
       "      <td>10.701866</td>\n",
       "    </tr>\n",
       "  </tbody>\n",
       "</table>\n",
       "</div>"
      ],
      "text/plain": [
       "                 pred\n",
       "2020-04-01  10.329288\n",
       "2020-04-02  10.618144\n",
       "2020-04-03  10.515382\n",
       "2020-04-04  10.842006\n",
       "2020-04-05  10.701866"
      ]
     },
     "execution_count": 18,
     "metadata": {},
     "output_type": "execute_result"
    }
   ],
   "source": [
    "# Backtesting\n",
    "# ==============================================================================\n",
    "metric, predictions = backtesting_forecaster(\n",
    "    forecaster         = forecaster,\n",
    "    y                  = data[:end_test]['y'],\n",
    "    exog               = data[:end_test][exog_variables],\n",
    "    initial_train_size = len(data[:end_validation]),\n",
    "    fixed_train_size   = False,\n",
    "    steps              = 91,\n",
    "    refit              = False,\n",
    "    metric             = 'mean_absolute_error',\n",
    "    verbose            = True\n",
    "    )\n",
    "\n",
    "predictions.head()"
   ]
  },
  {
   "cell_type": "code",
   "execution_count": 19,
   "id": "c10e5572-52fe-461c-a249-9b41a25efbb9",
   "metadata": {},
   "outputs": [
    {
     "data": {
      "image/png": "[encoded data removed]",
      "text/plain": [
       "<Figure size 648x288 with 1 Axes>"
      ]
     },
     "metadata": {
      "needs_background": "light"
     },
     "output_type": "display_data"
    }
   ],
   "source": [
    "# Plot predictions\n",
    "# ==============================================================================\n",
    "fig, ax=plt.subplots(figsize=(9, 4))\n",
    "data[:end_test].y.plot(ax=ax, label='actual')\n",
    "predictions[:end_test].plot(ax=ax, label='predictions')\n",
    "ax.legend();"
   ]
  },
  {
   "cell_type": "code",
   "execution_count": 20,
   "id": "ceb03846-b5c6-418e-a43c-83880ad95644",
   "metadata": {},
   "outputs": [
    {
     "data": {
      "text/plain": [
       "2020-04-01    9.717084\n",
       "2020-04-02    8.018262\n",
       "2020-04-03    7.978900\n",
       "2020-04-04    7.677499\n",
       "2020-04-05    8.140795\n",
       "Freq: D, Name: pred, dtype: float64"
      ]
     },
     "execution_count": 20,
     "metadata": {},
     "output_type": "execute_result"
    }
   ],
   "source": [
    "#forecast.predict\n",
    "# ==============================================================================\n",
    "steps = 91\n",
    "predictions_steps = forecaster.predict(\n",
    "    last_window=data[:end_validation][\"y\"],\n",
    "    exog = data[:end_test][exog_variables],\n",
    "    steps=steps\n",
    ")\n",
    "\n",
    "predictions_steps.head()"
   ]
  },
  {
   "cell_type": "code",
   "execution_count": 21,
   "id": "d615c3dc-b8a4-46bb-ad0c-9911098a3864",
   "metadata": {},
   "outputs": [
    {
     "data": {
      "image/png": "[encoded data removed]",
      "text/plain": [
       "<Figure size 648x288 with 1 Axes>"
      ]
     },
     "metadata": {
      "needs_background": "light"
     },
     "output_type": "display_data"
    }
   ],
   "source": [
    "# Plot predictions\n",
    "# ==============================================================================\n",
    "fig, ax=plt.subplots(figsize=(9, 4))\n",
    "data[:end_test].y.plot(ax=ax, label='actual')\n",
    "predictions_steps.plot(ax=ax, label='predictions')\n",
    "ax.legend();"
   ]
  },
  {
   "cell_type": "code",
   "execution_count": null,
   "id": "6995e3c4-92e0-4846-95bb-1120d60b221e",
   "metadata": {},
   "outputs": [],
   "source": []
  }
 ],
 "metadata": {
  "kernelspec": {
   "display_name": "Python 3 (ipykernel)",
   "language": "python",
   "name": "python3"
  },
  "language_info": {
   "codemirror_mode": {
    "name": "ipython",
    "version": 3
   },
   "file_extension": ".py",
   "mimetype": "text/x-python",
   "name": "python",
   "nbconvert_exporter": "python",
   "pygments_lexer": "ipython3",
   "version": "3.9.12"
  },
  "varInspector": {
   "cols": {
    "lenName": 16,
    "lenType": 16,
    "lenVar": 40
   },
   "kernels_config": {
    "python": {
     "delete_cmd_postfix": "",
     "delete_cmd_prefix": "del ",
     "library": "var_list.py",
     "varRefreshCmd": "print(var_dic_list())"
    },
    "r": {
     "delete_cmd_postfix": ") ",
     "delete_cmd_prefix": "rm(",
     "library": "var_list.r",
     "varRefreshCmd": "cat(var_dic_list()) "
    }
   },
   "types_to_exclude": [
    "module",
    "function",
    "builtin_function_or_method",
    "instance",
    "_Feature"
   ],
   "window_display": false
  }
 },
 "nbformat": 4,
 "nbformat_minor": 5
}
